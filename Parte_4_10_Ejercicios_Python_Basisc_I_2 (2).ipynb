{
  "metadata": {
    "kernelspec": {
      "name": "python",
      "display_name": "Python (Pyodide)",
      "language": "python"
    },
    "language_info": {
      "codemirror_mode": {
        "name": "python",
        "version": 3
      },
      "file_extension": ".py",
      "mimetype": "text/x-python",
      "name": "python",
      "nbconvert_exporter": "python",
      "pygments_lexer": "ipython3",
      "version": "3.8"
    },
    "colab": {
      "provenance": []
    }
  },
  "nbformat_minor": 4,
  "nbformat": 4,
  "cells": [
    {
      "cell_type": "markdown",
      "source": "![TheBridge_logo_RGB_color.jpg](attachment:TheBridge_logo_RGB_color.jpg)",
      "metadata": {
        "id": "GB2K42EgK9q5"
      }
    },
    {
      "cell_type": "markdown",
      "source": "![imagen](./img/ejercicios.png)",
      "metadata": {
        "id": "GnwVlO37K9q6"
      }
    },
    {
      "cell_type": "markdown",
      "source": "## EJERCICIOS PYTHON BASICO 2:\n## Tipos y conversión de tipos",
      "metadata": {
        "id": "_9pTa0PXK9q6"
      }
    },
    {
      "cell_type": "markdown",
      "source": "Completa los siguiente ejercicios, la solución a los mismos se publicarán en el repo del curso a lo largo del sprint",
      "metadata": {
        "id": "tYmV-veoK9q6"
      }
    },
    {
      "cell_type": "markdown",
      "source": "![ejercicio.png](./img/ejercicio.png)\n\n## Ejercicio 1\n\n1. Crea dos variables numericas: un `int` y un `float`\n2. Comprueba sus tipos\n3. Sumalas en otra nueva\n4. ¿De qué tipo es la nueva variable?\n5. Elimina las dos primeras variables creadas",
      "metadata": {
        "id": "YAdFbIOXK9q7"
      }
    },
    {
      "cell_type": "code",
      "source": "num_int = 22\nnum_float = 3.1\n\nprint(\"num_int\", type(num_int))\nprint(\"num_float\", type(num_float))",
      "metadata": {
        "id": "8QZmuLOsK9q7",
        "trusted": true
      },
      "outputs": [
        {
          "name": "stdout",
          "output_type": "stream",
          "text": "num_int <class 'int'>\nnum_float <class 'float'>\n"
        }
      ],
      "execution_count": 2
    },
    {
      "cell_type": "code",
      "source": "suma = num_int + num_float\nprint(num_int + num_float)",
      "metadata": {
        "trusted": true
      },
      "outputs": [
        {
          "name": "stdout",
          "output_type": "stream",
          "text": "25.1\n"
        }
      ],
      "execution_count": 5
    },
    {
      "cell_type": "code",
      "source": "suma_vars = num_int + num_float\nprint(suma_vars)",
      "metadata": {
        "trusted": true
      },
      "outputs": [
        {
          "name": "stdout",
          "output_type": "stream",
          "text": "25.1\n"
        }
      ],
      "execution_count": 9
    },
    {
      "cell_type": "code",
      "source": "print(type(suma_vars))",
      "metadata": {
        "trusted": true
      },
      "outputs": [
        {
          "name": "stdout",
          "output_type": "stream",
          "text": "<class 'float'>\n"
        }
      ],
      "execution_count": 10
    },
    {
      "cell_type": "code",
      "source": "num_int = 22\nnum_float = 3.1\ndel num_int\ndel num_float",
      "metadata": {
        "trusted": true
      },
      "outputs": [],
      "execution_count": 16
    },
    {
      "cell_type": "code",
      "source": "num_int",
      "metadata": {
        "trusted": true
      },
      "outputs": [
        {
          "ename": "<class 'NameError'>",
          "evalue": "name 'num_int' is not defined",
          "traceback": [
            "\u001b[0;31m---------------------------------------------------------------------------\u001b[0m",
            "\u001b[0;31mNameError\u001b[0m                                 Traceback (most recent call last)",
            "Cell \u001b[0;32mIn[17], line 1\u001b[0m\n\u001b[0;32m----> 1\u001b[0m \u001b[43mnum_int\u001b[49m\n",
            "\u001b[0;31mNameError\u001b[0m: name 'num_int' is not defined"
          ],
          "output_type": "error"
        }
      ],
      "execution_count": 17
    },
    {
      "cell_type": "code",
      "source": "num_float",
      "metadata": {
        "trusted": true,
        "scrolled": true
      },
      "outputs": [
        {
          "ename": "<class 'NameError'>",
          "evalue": "name 'num_float' is not defined",
          "traceback": [
            "\u001b[0;31m---------------------------------------------------------------------------\u001b[0m",
            "\u001b[0;31mNameError\u001b[0m                                 Traceback (most recent call last)",
            "Cell \u001b[0;32mIn[18], line 1\u001b[0m\n\u001b[0;32m----> 1\u001b[0m \u001b[43mnum_float\u001b[49m\n",
            "\u001b[0;31mNameError\u001b[0m: name 'num_float' is not defined"
          ],
          "output_type": "error"
        }
      ],
      "execution_count": 18
    },
    {
      "cell_type": "code",
      "source": "print(num_int_float)",
      "metadata": {
        "trusted": true
      },
      "outputs": [
        {
          "ename": "<class 'NameError'>",
          "evalue": "name 'num_int_float' is not defined",
          "traceback": [
            "\u001b[0;31m---------------------------------------------------------------------------\u001b[0m",
            "\u001b[0;31mNameError\u001b[0m                                 Traceback (most recent call last)",
            "Cell \u001b[0;32mIn[19], line 1\u001b[0m\n\u001b[0;32m----> 1\u001b[0m \u001b[38;5;28mprint\u001b[39m(\u001b[43mnum_int_float\u001b[49m)\n",
            "\u001b[0;31mNameError\u001b[0m: name 'num_int_float' is not defined"
          ],
          "output_type": "error"
        }
      ],
      "execution_count": 19
    },
    {
      "cell_type": "markdown",
      "source": "![ejercicio.png](./img/ejercicio.png)\n\n## Ejercicio 2\nEscribe un programa para pasar de grados a radianes. Hay que usar `input`. Recuerda que la conversión se realiza mediante\n\nradianes = grados*(pi/180)",
      "metadata": {
        "id": "f5xfpkpQK9q7"
      }
    },
    {
      "cell_type": "code",
      "source": "import math \ngrados = float(input(\"Angulo en grados:\"))\nradianes = grados * (math.pi/180)\nprint(\"Angulo en radianes:\", radianes)",
      "metadata": {
        "id": "V50TUQMzK9q7",
        "trusted": true
      },
      "outputs": [
        {
          "output_type": "stream",
          "name": "stdin",
          "text": "Angulo en grados: 90\n"
        },
        {
          "name": "stdout",
          "output_type": "stream",
          "text": "Angulo en radianes: 1.5707963267948966\n"
        }
      ],
      "execution_count": 31
    },
    {
      "cell_type": "markdown",
      "source": "![ejercicio.png](./img/ejercicio.png)\n\n## Ejercicio 3\nEscribe un programa que calcule el area de un paralelogramo (base x altura). También con `input`",
      "metadata": {
        "id": "zX3-p58CK9q7"
      }
    },
    {
      "cell_type": "code",
      "source": "base = int(input(\"base\"))\naltura = int(input(\"altura\"))\n\narea = base * altura\nprint(area)",
      "metadata": {
        "id": "s2QfNiBAK9q7",
        "trusted": true
      },
      "outputs": [
        {
          "output_type": "stream",
          "name": "stdin",
          "text": "base 12\naltura 5\n"
        },
        {
          "name": "stdout",
          "output_type": "stream",
          "text": "60\n"
        }
      ],
      "execution_count": 40
    },
    {
      "cell_type": "markdown",
      "source": "![ejercicio.png](./img/ejercicio.png)\n\n## Ejercicio 4\nEscribe un programa que calcule el area de un paralelogramo (base x altura). También con `input`. En este caso debe ser capaz de admitir valores reales, con decimales, para base y altura en español. (PISTA: Recuerda que tendrás que hacer uso del método replace)",
      "metadata": {
        "id": "-6TBo_HvK9q8"
      }
    },
    {
      "cell_type": "code",
      "source": "base_str = input(\"base\")\naltura_str = input(\"altura\")\n\nnueva_base = base_str.replace(\",\",\".\")\nnueva_altura = altura_str.replace(\",\",\".\")\n\nbase = float(nueva_base)\naltura = float(nueva_altura)\n\narea = base * altura\nprint(area)\n",
      "metadata": {
        "id": "uzUIa1JqK9q8",
        "trusted": true
      },
      "outputs": [
        {
          "output_type": "stream",
          "name": "stdin",
          "text": "base 14,4\naltura 3.7\n"
        },
        {
          "name": "stdout",
          "output_type": "stream",
          "text": "53.28\n"
        }
      ],
      "execution_count": 42
    },
    {
      "cell_type": "markdown",
      "source": "![ejercicio.png](./img/ejercicio.png)\n\n## Ejercicio 5\nComplete el siguiente código para solicitar al usuario su nombre y su edad. Luego, calcule en qué año nació el usuario y muestre el resultado.",
      "metadata": {
        "id": "5zKugi5iK9q8"
      }
    },
    {
      "cell_type": "code",
      "source": "nombre = _______(\"¿Cuál es tu nombre? \")\nedad = _____(input(\"¿Cuál es tu edad? \"))\naño_actual = 2023  # Puedes cambiarlo según el año en curso\naño_nacimiento = año_actual - _____\n\nprint(f\"{nombre}, naciste en el año {año_nacimiento}.\")\n",
      "metadata": {
        "id": "LISfTnRkK9q8"
      },
      "outputs": [],
      "execution_count": null
    },
    {
      "cell_type": "code",
      "source": "nombre = input(\"¿Cuál es tu nombre? \")\nedad = int(input(\"¿Cuál es tu edad? \"))\naño_actual = 2025 # Puedes cambiarlo según el año en curso\naño_nacimiento = año_actual - edad\n\nprint(f\"{nombre}, naciste en el año {año_nacimiento}.\")\n",
      "metadata": {
        "trusted": true
      },
      "outputs": [
        {
          "output_type": "stream",
          "name": "stdin",
          "text": "¿Cuál es tu nombre?  Ana\n¿Cuál es tu edad?  25\n"
        },
        {
          "name": "stdout",
          "output_type": "stream",
          "text": "Ana, naciste en el año 2000.\n"
        }
      ],
      "execution_count": 44
    }
  ]
}