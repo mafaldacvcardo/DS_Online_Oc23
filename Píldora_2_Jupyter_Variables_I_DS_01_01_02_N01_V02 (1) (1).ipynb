{
  "metadata": {
    "kernelspec": {
      "name": "python",
      "display_name": "Python (Pyodide)",
      "language": "python"
    },
    "language_info": {
      "codemirror_mode": {
        "name": "python",
        "version": 3
      },
      "file_extension": ".py",
      "mimetype": "text/x-python",
      "name": "python",
      "nbconvert_exporter": "python",
      "pygments_lexer": "ipython3",
      "version": "3.8"
    },
    "nbTranslate": {
      "displayLangs": [
        "*"
      ],
      "hotkey": "alt-t",
      "langInMainMenu": true,
      "sourceLang": "en",
      "targetLang": "fr",
      "useGoogleTranslate": true
    },
    "varInspector": {
      "cols": {
        "lenName": 16,
        "lenType": 16,
        "lenVar": 40
      },
      "kernels_config": {
        "python": {
          "delete_cmd_postfix": "",
          "delete_cmd_prefix": "del ",
          "library": "var_list.py",
          "varRefreshCmd": "print(var_dic_list())"
        },
        "r": {
          "delete_cmd_postfix": ") ",
          "delete_cmd_prefix": "rm(",
          "library": "var_list.r",
          "varRefreshCmd": "cat(var_dic_list()) "
        }
      },
      "types_to_exclude": [
        "module",
        "function",
        "builtin_function_or_method",
        "instance",
        "_Feature"
      ],
      "window_display": false
    },
    "colab": {
      "provenance": []
    }
  },
  "nbformat_minor": 4,
  "nbformat": 4,
  "cells": [
    {
      "cell_type": "markdown",
      "source": "<img src=\"./img/TheBridge_logo_RGB_color.jpg\" width = 250>\n<img src=\"./img/python.jpg\" width = 250>",
      "metadata": {
        "id": "t9k24ilStE3l"
      }
    },
    {
      "cell_type": "markdown",
      "source": "# Python Basics I: Variables\n\n\nBienvenido a tu primer asalto con Python. Empezamos nuestra aventura declarando variables.\n\nLas variables son una manera de etiquetar y conservar los datos del programa para luego poder emplearlos en diferentes sitios.",
      "metadata": {
        "id": "3rV0f2u_tE3q"
      }
    },
    {
      "cell_type": "markdown",
      "source": "## Contenidos",
      "metadata": {
        "id": "MwBP-A48tE3r"
      }
    },
    {
      "cell_type": "markdown",
      "source": "* [Variables numéricas\n](#Variables-numéricas\n)\n* [Cadenas de texto\n](#Cadenas-de-texto\n)\n* [Escribir mal el nombre\n](#Escribir-mal-el-nombre\n)\n* [Cerrar bien los strings\n](#Cerrar-bien-los-strings\n)\n* [Prohibido espacios en los nombres de las variables\n](#Prohibido-espacios-en-los-nombres-de-las-variables\n)\n* [Números en el nombre de la variable\n](#Números-en-el-nombre-de-la-variable\n)\n* [Sensible a mayusculas\n](#Sensible-a-mayusculas\n)\n* [Palabras reservadas\n](#Palabras-reservadas\n)\n* [Resumen variables\n](#Resumen-variables\n)\n",
      "metadata": {
        "id": "YxEl7TqRtE3s"
      }
    },
    {
      "cell_type": "markdown",
      "source": "### Variables numéricas\n[al indice](#Contenidos)\n\n",
      "metadata": {
        "id": "cYafgflItE3t"
      }
    },
    {
      "cell_type": "code",
      "source": "ingresos = 1000\ngastos = 400",
      "metadata": {
        "id": "MtQbDAoPtE3u",
        "trusted": true
      },
      "outputs": [],
      "execution_count": 4
    },
    {
      "cell_type": "markdown",
      "source": "**Esto es una asignación**. A la palabra *ingresos*, le asignamos un valor mediante `=`.\nSi queremos ver el valor de la variable, simplemente escribimos su nombre en una celda.",
      "metadata": {
        "id": "hQhUdzk5tE3v"
      }
    },
    {
      "cell_type": "code",
      "source": "ingresos",
      "metadata": {
        "id": "YEx19cXYtE3v",
        "trusted": true
      },
      "outputs": [
        {
          "execution_count": 5,
          "output_type": "execute_result",
          "data": {
            "text/plain": "1000"
          },
          "metadata": {}
        }
      ],
      "execution_count": 5
    },
    {
      "cell_type": "code",
      "source": "ingresos\ngastos",
      "metadata": {
        "id": "rfE5NpJGtE3w",
        "trusted": true
      },
      "outputs": [
        {
          "execution_count": 6,
          "output_type": "execute_result",
          "data": {
            "text/plain": "400"
          },
          "metadata": {}
        }
      ],
      "execution_count": 6
    },
    {
      "cell_type": "code",
      "source": "print(ingresos)\nprint(gastos)",
      "metadata": {
        "id": "NVNXRKbhtE3w",
        "trusted": true
      },
      "outputs": [
        {
          "name": "stdout",
          "output_type": "stream",
          "text": "1000\n400\n"
        }
      ],
      "execution_count": 7
    },
    {
      "cell_type": "code",
      "source": "margen = ingresos - gastos",
      "metadata": {
        "id": "zw12hwr1tE3w",
        "trusted": true
      },
      "outputs": [],
      "execution_count": 8
    },
    {
      "cell_type": "code",
      "source": "margen",
      "metadata": {
        "id": "CwIqfVA7tE3x",
        "trusted": true
      },
      "outputs": [
        {
          "execution_count": 9,
          "output_type": "execute_result",
          "data": {
            "text/plain": "600"
          },
          "metadata": {}
        }
      ],
      "execution_count": 9
    },
    {
      "cell_type": "code",
      "source": "print(margen)",
      "metadata": {
        "id": "lA_ydwrdtE3x",
        "trusted": true
      },
      "outputs": [
        {
          "name": "stdout",
          "output_type": "stream",
          "text": "600\n"
        }
      ],
      "execution_count": 10
    },
    {
      "cell_type": "markdown",
      "source": "### Cadenas de texto\n[al indice](#Contenidos)\n\nLas cadenas de texto se declaran con comillas simples o dobles",
      "metadata": {
        "id": "XPdHX1MdtE3y"
      }
    },
    {
      "cell_type": "code",
      "source": "ingresos_text = \"Los ingresos han sido altos\"\ningresos_alt = 'Los ingresos han sido altos'\nprint(ingresos_text)\nprint(ingresos_alt)",
      "metadata": {
        "id": "6AvotMWTtE3y",
        "trusted": true
      },
      "outputs": [
        {
          "name": "stdout",
          "output_type": "stream",
          "text": "Los ingresos han sido altos\nLos ingresos han sido altos\n"
        }
      ],
      "execution_count": 11
    },
    {
      "cell_type": "code",
      "source": "ingresos_text = \"Los 'ingresos' han sido altos\"",
      "metadata": {
        "id": "a_YQR4rFtE3z",
        "trusted": true
      },
      "outputs": [],
      "execution_count": 12
    },
    {
      "cell_type": "code",
      "source": "ingresos_text",
      "metadata": {
        "id": "ZH8e1YQatE3z",
        "trusted": true
      },
      "outputs": [
        {
          "execution_count": 13,
          "output_type": "execute_result",
          "data": {
            "text/plain": "\"Los 'ingresos' han sido altos\""
          },
          "metadata": {}
        }
      ],
      "execution_count": 13
    },
    {
      "cell_type": "code",
      "source": "ingresos_text = \"Los \"ingresos\" han sido altos\"",
      "metadata": {
        "id": "vWfSjgRutE3z",
        "trusted": true,
        "scrolled": true
      },
      "outputs": [
        {
          "ename": "<class 'SyntaxError'>",
          "evalue": "invalid syntax (<ipython-input-14-23eb501d85f2>, line 1)",
          "traceback": [
            "\u001b[0;36m  Cell \u001b[0;32mIn[14], line 1\u001b[0;36m\u001b[0m\n\u001b[0;31m    ingresos_text = \"Los \"ingresos\" han sido altos\"\u001b[0m\n\u001b[0m                          ^\u001b[0m\n\u001b[0;31mSyntaxError\u001b[0m\u001b[0;31m:\u001b[0m invalid syntax\n"
          ],
          "output_type": "error"
        }
      ],
      "execution_count": 14
    },
    {
      "cell_type": "code",
      "source": "ingresos = 1000\ningresos=1000\ningresos text= \"Los ingresos han sido altos, pero esto da error\"",
      "metadata": {
        "trusted": true
      },
      "outputs": [
        {
          "ename": "<class 'SyntaxError'>",
          "evalue": "invalid syntax (<ipython-input-15-2bb46860ef12>, line 3)",
          "traceback": [
            "\u001b[0;36m  Cell \u001b[0;32mIn[15], line 3\u001b[0;36m\u001b[0m\n\u001b[0;31m    ingresos text= \"Los ingresos han sido altos, pero esto da error\"\u001b[0m\n\u001b[0m             ^\u001b[0m\n\u001b[0;31mSyntaxError\u001b[0m\u001b[0;31m:\u001b[0m invalid syntax\n"
          ],
          "output_type": "error"
        }
      ],
      "execution_count": 15
    },
    {
      "cell_type": "markdown",
      "source": "Python es un lenguaje dinámico por lo que siempre podremos actualizar los valores de las variables. **Se recomienda usar nombres descriptivos para declarar las variables, pero no excesivamente largos**. Así evitamos sobreescribirlas sin querer.\n\nPor otro lado, cuidado con los caracteres ele y uno (`l` vs `1`), así como con cero y o (`0` vs `O`). Se suelen confundir.\n\nfatal vs fata1\n\nclarO vs clar0\n\nReasignamos valor a gastos",
      "metadata": {
        "id": "RMqQkmCjtE30"
      }
    },
    {
      "cell_type": "code",
      "source": "gastos = 200",
      "metadata": {
        "id": "NP-5U4aLtE30",
        "trusted": true
      },
      "outputs": [],
      "execution_count": 17
    },
    {
      "cell_type": "code",
      "source": "print(gastos)",
      "metadata": {
        "id": "1pGee75-tE31",
        "trusted": true
      },
      "outputs": [
        {
          "name": "stdout",
          "output_type": "stream",
          "text": "200\n"
        }
      ],
      "execution_count": 18
    },
    {
      "cell_type": "markdown",
      "source": "Ahora la variable gastos vale 200. Si la última línea de una celda es una variable, su valor será el *output* de la celda: 200.\n\nVale, ¿y de qué nos sirve guardar variables?\n\nPodremos usar estos datos posteriormente, en otro lugar del programa. Por ejemplo, si ahora en una celda nueva queremos obtener el beneficio, simplemente restamos los nombres de las variables",
      "metadata": {
        "id": "xPVtK8jStE31"
      }
    },
    {
      "cell_type": "code",
      "source": "gastos = 100",
      "metadata": {
        "id": "8MHi4eFetE31",
        "trusted": true
      },
      "outputs": [],
      "execution_count": 20
    },
    {
      "cell_type": "code",
      "source": "beneficios = ingresos - gastos",
      "metadata": {
        "trusted": true
      },
      "outputs": [],
      "execution_count": 21
    },
    {
      "cell_type": "code",
      "source": "beneficios",
      "metadata": {
        "trusted": true
      },
      "outputs": [
        {
          "execution_count": 22,
          "output_type": "execute_result",
          "data": {
            "text/plain": "900"
          },
          "metadata": {}
        }
      ],
      "execution_count": 22
    },
    {
      "cell_type": "markdown",
      "source": "<table align=\"left\">\n <tr><td width=\"80\"><img src=\"img/error.png\" style=\"width:auto;height:auto\"></td>\n     <td style=\"text-align:left\">\n         <h3>ERRORES en variables</h3>\n         \n </td></tr>\n</table>",
      "metadata": {
        "id": "DB10vsSatE32"
      }
    },
    {
      "cell_type": "markdown",
      "source": "### Escribir mal el nombre\n[al indice](#Contenidos)\n\nUn error típico cuando declaramos variables es **escribir su nombre mal, o llamar despues a la variable de forma errónea**. En tal caso, aparece un `NameError: name 'variable_que_no_existe' is not defined`",
      "metadata": {
        "id": "ZYUauRIatE33"
      }
    },
    {
      "cell_type": "code",
      "source": "gsts",
      "metadata": {
        "id": "4ZbzHTYwtE33",
        "trusted": true
      },
      "outputs": [
        {
          "ename": "<class 'NameError'>",
          "evalue": "name 'gsts' is not defined",
          "traceback": [
            "\u001b[0;31m---------------------------------------------------------------------------\u001b[0m",
            "\u001b[0;31mNameError\u001b[0m                                 Traceback (most recent call last)",
            "Cell \u001b[0;32mIn[23], line 1\u001b[0m\n\u001b[0;32m----> 1\u001b[0m \u001b[43mgsts\u001b[49m\n",
            "\u001b[0;31mNameError\u001b[0m: name 'gsts' is not defined"
          ],
          "output_type": "error"
        }
      ],
      "execution_count": 23
    },
    {
      "cell_type": "markdown",
      "source": "Fíjate que te indica la línea donde se produce el error, el tipo de error (`NameError`), y una breve descripción del error.",
      "metadata": {
        "id": "r2kVKhEutE34"
      }
    },
    {
      "cell_type": "markdown",
      "source": "### Cerrar bien los strings\n[al indice](#Contenidos)\n\n\nCuidado tambien cuando definamos una cadena de texto, y se nos olvide cerrarla con sus correspondientes comillas. Nos dará un `SyntaxError: EOL while scanning string literal` (End Of Line)",
      "metadata": {
        "id": "ZbioKWXatE35"
      }
    },
    {
      "cell_type": "code",
      "source": "texto = \"Error sin comillas",
      "metadata": {
        "id": "EiLxnbnttE35",
        "trusted": true
      },
      "outputs": [
        {
          "ename": "<class 'SyntaxError'>",
          "evalue": "unterminated string literal (detected at line 1) (<ipython-input-24-4b2f05de908f>, line 1)",
          "traceback": [
            "\u001b[0;36m  Cell \u001b[0;32mIn[24], line 1\u001b[0;36m\u001b[0m\n\u001b[0;31m    texto = \"Error sin comillas\u001b[0m\n\u001b[0m            ^\u001b[0m\n\u001b[0;31mSyntaxError\u001b[0m\u001b[0;31m:\u001b[0m unterminated string literal (detected at line 1)\n"
          ],
          "output_type": "error"
        }
      ],
      "execution_count": 24
    },
    {
      "cell_type": "markdown",
      "source": "### Prohibido espacios en los nombres de las variables\n[al indice](#Contenidos)\n\n\nTambién dará error si tenemos un espacio en la declaración de la variable. Se recomienda mínusculas y guiones bajos para simular los espacios.\n\n**Los espacios que encuentres alrededor del igual se pueden usar perfectamente**. Es pura estética a la hora de leer el código.",
      "metadata": {
        "id": "9vdLLFPEtE37"
      }
    },
    {
      "cell_type": "code",
      "source": "",
      "metadata": {
        "trusted": true
      },
      "outputs": [],
      "execution_count": null
    },
    {
      "cell_type": "markdown",
      "source": "### Números en el nombre de la variable\n[al indice](#Contenidos)\n\nOjo con los números cuando declaremos variables. En ocasiones es determinante describir nuestra variable con algún número. En tal caso, ponlo siempre al final del nombre de la variable, ya que sino saltará un error.",
      "metadata": {
        "id": "SQk2oMDztE38"
      }
    },
    {
      "cell_type": "code",
      "source": "2009_ingresos",
      "metadata": {
        "id": "FdEhMMn_tE39",
        "trusted": true,
        "scrolled": true
      },
      "outputs": [
        {
          "ename": "<class 'SyntaxError'>",
          "evalue": "invalid decimal literal (<ipython-input-30-87fff1b6285c>, line 1)",
          "traceback": [
            "\u001b[0;36m  Cell \u001b[0;32mIn[30], line 1\u001b[0;36m\u001b[0m\n\u001b[0;31m    2009_ingresos\u001b[0m\n\u001b[0m        ^\u001b[0m\n\u001b[0;31mSyntaxError\u001b[0m\u001b[0;31m:\u001b[0m invalid decimal literal\n"
          ],
          "output_type": "error"
        }
      ],
      "execution_count": 30
    },
    {
      "cell_type": "code",
      "source": "ingresos_2009 = 25000",
      "metadata": {
        "trusted": true
      },
      "outputs": [],
      "execution_count": 31
    },
    {
      "cell_type": "markdown",
      "source": "### Sensible a mayusculas\n[al indice](#Contenidos)\n\n\nMucho cuidado con las mayusculas y minusculas porque Python no las ignora. Si todas las letras de una variable están en mayusculas, tendremos que usarla en mayusculas, sino dará un error de que no encuentra la variable.",
      "metadata": {
        "id": "SFaxnvWctE39"
      }
    },
    {
      "cell_type": "code",
      "source": "print(Ingresos_2009)",
      "metadata": {
        "id": "gJyO5-VStE3-",
        "trusted": true
      },
      "outputs": [
        {
          "ename": "<class 'NameError'>",
          "evalue": "name 'Ingresos_2009' is not defined",
          "traceback": [
            "\u001b[0;31m---------------------------------------------------------------------------\u001b[0m",
            "\u001b[0;31mNameError\u001b[0m                                 Traceback (most recent call last)",
            "Cell \u001b[0;32mIn[29], line 1\u001b[0m\n\u001b[0;32m----> 1\u001b[0m \u001b[38;5;28mprint\u001b[39m(\u001b[43mIngresos_2009\u001b[49m)\n",
            "\u001b[0;31mNameError\u001b[0m: name 'Ingresos_2009' is not defined"
          ],
          "output_type": "error"
        }
      ],
      "execution_count": 29
    },
    {
      "cell_type": "code",
      "source": "",
      "metadata": {
        "id": "MfCnT548tE3_"
      },
      "outputs": [],
      "execution_count": null
    },
    {
      "cell_type": "markdown",
      "source": "### Palabras reservadas\n[al indice](#Contenidos)\n\n\nEn Python, como en otros lenguajes, hay una serie de palabras reservadas que tienen un significado para el intérprete de Python y por lo tanto no podemos usar para ponerle nombre a nuestras variables.\n\nPor ejemplo, `def` se usa para definir funciones en Python (lo veremos en otros notebooks), por lo que no podemos emplear `def` para nombrar a nuestras variables",
      "metadata": {
        "id": "dWZypPVKtE3_"
      }
    },
    {
      "cell_type": "raw",
      "source": "def = 10",
      "metadata": {
        "id": "oGXjiD6gtE4A"
      }
    },
    {
      "cell_type": "markdown",
      "source": "Consulta la lista de palabras reservadas de Python",
      "metadata": {
        "id": "qoGOB0y0tE4B"
      }
    },
    {
      "cell_type": "code",
      "source": "import keyword\nprint(keyword.kwlist)",
      "metadata": {
        "id": "uOUoeAbvtE4B",
        "trusted": true
      },
      "outputs": [
        {
          "name": "stdout",
          "output_type": "stream",
          "text": "['False', 'None', 'True', 'and', 'as', 'assert', 'async', 'await', 'break', 'class', 'continue', 'def', 'del', 'elif', 'else', 'except', 'finally', 'for', 'from', 'global', 'if', 'import', 'in', 'is', 'lambda', 'nonlocal', 'not', 'or', 'pass', 'raise', 'return', 'try', 'while', 'with', 'yield']\n"
        }
      ],
      "execution_count": 33
    },
    {
      "cell_type": "code",
      "source": "help(\"keywords\")",
      "metadata": {
        "id": "iwNSgwQxtE4C",
        "trusted": true
      },
      "outputs": [
        {
          "name": "stdout",
          "output_type": "stream",
          "text": "\nHere is a list of the Python keywords.  Enter any keyword to get more help.\n\nFalse               class               from                or\nNone                continue            global              pass\nTrue                def                 if                  raise\nand                 del                 import              return\nas                  elif                in                  try\nassert              else                is                  while\nasync               except              lambda              with\nawait               finally             nonlocal            yield\nbreak               for                 not                 \n\n"
        }
      ],
      "execution_count": 34
    },
    {
      "cell_type": "markdown",
      "source": "### Resumen variables\n[al indice](#Contenidos)\n\n\nEn resumen:\n* Usar minusculas. Sensible a mayusculas/minusculas\n* No usar espacios\n* No usar palabras reservadas\n* No usar numeros al principio de la variable\n* Cuidado con los caracteres `l`, `1`, `O`, `0`",
      "metadata": {
        "id": "ruqMFYGotE4C"
      }
    },
    {
      "cell_type": "code",
      "source": "",
      "metadata": {
        "id": "Zl6zXwnCtE4D"
      },
      "outputs": [],
      "execution_count": null
    },
    {
      "cell_type": "code",
      "source": "",
      "metadata": {
        "id": "niJSVJ_qtE4D"
      },
      "outputs": [],
      "execution_count": null
    },
    {
      "cell_type": "code",
      "source": "",
      "metadata": {
        "id": "PCoKUu9btE4E"
      },
      "outputs": [],
      "execution_count": null
    }
  ]
}