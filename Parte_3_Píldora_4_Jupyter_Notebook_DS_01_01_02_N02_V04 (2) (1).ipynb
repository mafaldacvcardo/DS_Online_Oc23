{
  "metadata": {
    "kernelspec": {
      "name": "python",
      "display_name": "Python (Pyodide)",
      "language": "python"
    },
    "language_info": {
      "codemirror_mode": {
        "name": "python",
        "version": 3
      },
      "file_extension": ".py",
      "mimetype": "text/x-python",
      "name": "python",
      "nbconvert_exporter": "python",
      "pygments_lexer": "ipython3",
      "version": "3.8"
    },
    "nbTranslate": {
      "displayLangs": [
        "*"
      ],
      "hotkey": "alt-t",
      "langInMainMenu": true,
      "sourceLang": "en",
      "targetLang": "fr",
      "useGoogleTranslate": true
    },
    "varInspector": {
      "cols": {
        "lenName": 16,
        "lenType": 16,
        "lenVar": 40
      },
      "kernels_config": {
        "python": {
          "delete_cmd_postfix": "",
          "delete_cmd_prefix": "del ",
          "library": "var_list.py",
          "varRefreshCmd": "print(var_dic_list())"
        },
        "r": {
          "delete_cmd_postfix": ") ",
          "delete_cmd_prefix": "rm(",
          "library": "var_list.r",
          "varRefreshCmd": "cat(var_dic_list()) "
        }
      },
      "types_to_exclude": [
        "module",
        "function",
        "builtin_function_or_method",
        "instance",
        "_Feature"
      ],
      "window_display": false
    },
    "colab": {
      "provenance": []
    }
  },
  "nbformat_minor": 4,
  "nbformat": 4,
  "cells": [
    {
      "cell_type": "markdown",
      "source": "<img src=\"./img/TheBridge_logo_RGB_color.jpg\" width = 500>\n<img src=\"./img/python.jpg\" width = 500>",
      "metadata": {
        "id": "0TWx1mQysz71"
      }
    },
    {
      "cell_type": "markdown",
      "source": "# Python Basics I: Print, Comentarios y otros aspectos básicos\n\nEn este notebook vamos a profundizar un poquito más en el uso de la función print, además de ver cómo usar los comentarios, la importancia del flujo secuencial de ejecución de python y terminaremos con el uso del comando para liberar memoria, `del`.",
      "metadata": {
        "id": "SJZLx68ysz77"
      }
    },
    {
      "cell_type": "markdown",
      "source": "## Contenidos",
      "metadata": {
        "id": "yQBSE68Asz7_"
      }
    },
    {
      "cell_type": "markdown",
      "source": "* [Print](#Print)\n* [Comentarios\n](#Comentarios\n)\n* [Flujos de ejecución\n](#Flujos-de-ejecución\n)\n* [Del\n](#Del\n)\n",
      "metadata": {
        "id": "Ri_YEvIFsz7_"
      }
    },
    {
      "cell_type": "markdown",
      "source": "## Print[al indice](#Contenidos)\n",
      "metadata": {
        "id": "Sq7AaR0Ksz8A"
      }
    },
    {
      "cell_type": "markdown",
      "source": "Hasta ahora hemos visto en Jupyter dos tipos de celdas:\n* **Markdown**: básicamente texto para las explicaciones\n* **Código**: donde insertamos el código Python y lo ejecutamos\n\nLas celdas de código, no solo corren el código y realizan todas las operaciones que le indiquemos, sino que también tienen un output, una salida de ese código. Tenemos dos opciones para ver el output del código, o bien mediante `print`, o poniendo una variable al final de la celda. En este último caso, veremos el valor de esa variable",
      "metadata": {
        "id": "VUDSdhRmsz8B"
      }
    },
    {
      "cell_type": "code",
      "source": "ingresos = 1000\ngastos = 100\nbeneficios = ingresos - gastos",
      "metadata": {
        "id": "bClFVzBrsz8F",
        "trusted": true
      },
      "outputs": [],
      "execution_count": 2
    },
    {
      "cell_type": "code",
      "source": "print(ingresos)\nprint(gastos)\nprint(\"Los beneficios han sido de:\")\nprint(beneficios)",
      "metadata": {
        "id": "h0oHArOUsz8G",
        "trusted": true
      },
      "outputs": [
        {
          "name": "stdout",
          "output_type": "stream",
          "text": "1000\n100\nLos beneficios han sido de:\n900\n"
        }
      ],
      "execution_count": 3
    },
    {
      "cell_type": "markdown",
      "source": "Si hacemos un print de un texto, podemos concatenar valores de variables mediante `%s`.",
      "metadata": {
        "id": "Ztq4hPUGsz8H"
      }
    },
    {
      "cell_type": "code",
      "source": "mes = \"junio\"\nprint(\"Los beneficios de %s han sido %s millones\" %(mes, beneficios))",
      "metadata": {
        "id": "9HtC_3Jasz8I",
        "trusted": true
      },
      "outputs": [
        {
          "name": "stdout",
          "output_type": "stream",
          "text": "Los beneficios de junio han sido 900 millones\n"
        }
      ],
      "execution_count": 4
    },
    {
      "cell_type": "markdown",
      "source": "Otra opcion si queremos imprimir por pantalla varios strings, es separandolos por comas en el `print`. Fíjate que le añade espacios en la salida cada vez que ponemos un valor nuevo entre comas.",
      "metadata": {
        "id": "W_OVzYZpsz8J"
      }
    },
    {
      "cell_type": "code",
      "source": "print(\"Los beneficios de %s han sido de %s milliones\" %(beneficios, mes))",
      "metadata": {
        "id": "e7GTTG7Asz8K",
        "trusted": true,
        "scrolled": true
      },
      "outputs": [
        {
          "name": "stdout",
          "output_type": "stream",
          "text": "Los beneficios de 900 han sido de junio milliones\n"
        }
      ],
      "execution_count": 5
    },
    {
      "cell_type": "code",
      "source": "mes = \"agosto\"\nprint(\"Los beneficios de\", mes, \"han sido\", beneficios, \"millones\")",
      "metadata": {
        "trusted": true
      },
      "outputs": [
        {
          "name": "stdout",
          "output_type": "stream",
          "text": "Los beneficios de agosto han sido 900 millones\n"
        }
      ],
      "execution_count": 6
    },
    {
      "cell_type": "markdown",
      "source": "## Comentarios\n[al indice](#Contenidos)\nSe trata de texto que va junto con el código, y que el intérprete de Python ignora por completo. Muy útil para documentar y explicar el código",
      "metadata": {
        "id": "vdj2DkwVsz8K"
      }
    },
    {
      "cell_type": "code",
      "source": "# Comentario de linea\n# print (\"Esto lo ignora\")\n\nprint(\"Esto sí lo ejecutará\")",
      "metadata": {
        "id": "tNN4NXBosz8L",
        "trusted": true
      },
      "outputs": [
        {
          "name": "stdout",
          "output_type": "stream",
          "text": "Esto sí lo ejecutará\n"
        }
      ],
      "execution_count": 7
    },
    {
      "cell_type": "code",
      "source": "print(\"Fin de programa\") # Esta linea indica que hemos terminado",
      "metadata": {
        "id": "xAMl3XMZsz8L",
        "trusted": true
      },
      "outputs": [
        {
          "name": "stdout",
          "output_type": "stream",
          "text": "Fin de programa\n"
        }
      ],
      "execution_count": 8
    },
    {
      "cell_type": "code",
      "source": "'''\nComentario multilinea\nPuedo usar varias líneas sin tener que repetir el #\n'''\n\n\"\"\"\nLos comentarios multilinea pueden ir\nentre comillas dobles, y tampoco se ejecutan o interpretan\neste\nprint(\"No se va a ejecutar\")\n\"\"\"\n\nprint(\"Este print si se va a ajecutar\")",
      "metadata": {
        "id": "kLfdySz4sz8M",
        "trusted": true
      },
      "outputs": [
        {
          "name": "stdout",
          "output_type": "stream",
          "text": "Este print si se va a ajecutar\n"
        }
      ],
      "execution_count": 14
    },
    {
      "cell_type": "code",
      "source": "",
      "metadata": {
        "id": "mKjNNl9usz8M"
      },
      "outputs": [],
      "execution_count": null
    },
    {
      "cell_type": "markdown",
      "source": "**IMPORTATE**. SIEMPRE comentar el código. Nunca sabes quén lo puede heredar. Te dejo en [este link](https://realpython.com/python-comments-guide/) una guía interesante sobre cómo comentar tu código.",
      "metadata": {
        "id": "YjKKvIcvsz8N"
      }
    },
    {
      "cell_type": "markdown",
      "source": "## Flujos de ejecución\n[al indice](#Contenidos)\nLos programas de Python se ejecutan secuencialmente, por lo que el orden en el que escribas las operaciones es determinante",
      "metadata": {
        "id": "DvY8MqBFsz8P"
      }
    },
    {
      "cell_type": "code",
      "source": "ventas_jun_jul = ventas_junio + ventas_julio\n\nventas_junio = 100\nventas_julio = 150",
      "metadata": {
        "id": "fQLF5Hi9sz8Q",
        "trusted": true
      },
      "outputs": [
        {
          "ename": "<class 'NameError'>",
          "evalue": "name 'ventas_junio' is not defined",
          "traceback": [
            "\u001b[0;31m---------------------------------------------------------------------------\u001b[0m",
            "\u001b[0;31mNameError\u001b[0m                                 Traceback (most recent call last)",
            "Cell \u001b[0;32mIn[15], line 1\u001b[0m\n\u001b[0;32m----> 1\u001b[0m ventas_jun_jul \u001b[38;5;241m=\u001b[39m \u001b[43mventas_junio\u001b[49m \u001b[38;5;241m+\u001b[39m ventas_julio\n\u001b[1;32m      3\u001b[0m ventas_junio \u001b[38;5;241m=\u001b[39m \u001b[38;5;241m100\u001b[39m\n\u001b[1;32m      4\u001b[0m ventas_julio \u001b[38;5;241m=\u001b[39m \u001b[38;5;241m150\u001b[39m\n",
            "\u001b[0;31mNameError\u001b[0m: name 'ventas_junio' is not defined"
          ],
          "output_type": "error"
        }
      ],
      "execution_count": 15
    },
    {
      "cell_type": "code",
      "source": "ventas_junio",
      "metadata": {
        "id": "bHDb4Wu0sz8R",
        "trusted": true
      },
      "outputs": [
        {
          "ename": "<class 'NameError'>",
          "evalue": "name 'ventas_junio' is not defined",
          "traceback": [
            "\u001b[0;31m---------------------------------------------------------------------------\u001b[0m",
            "\u001b[0;31mNameError\u001b[0m                                 Traceback (most recent call last)",
            "Cell \u001b[0;32mIn[16], line 1\u001b[0m\n\u001b[0;32m----> 1\u001b[0m \u001b[43mventas_junio\u001b[49m\n",
            "\u001b[0;31mNameError\u001b[0m: name 'ventas_junio' is not defined"
          ],
          "output_type": "error"
        }
      ],
      "execution_count": 16
    },
    {
      "cell_type": "markdown",
      "source": "**Da error**, primero tenemos que declarar las ventas, y luego sumarlas.\n",
      "metadata": {
        "id": "AQad9bd5sz8R"
      }
    },
    {
      "cell_type": "code",
      "source": "ventas_junio = 100\nventas_julio = 150\n\nventas_jun_jul = ventas_junio + ventas_julio",
      "metadata": {
        "id": "8eK59bISsz8S",
        "trusted": true
      },
      "outputs": [],
      "execution_count": 18
    },
    {
      "cell_type": "code",
      "source": "print(\"las ventas de junio a julio son\", ventas_jun_jul)",
      "metadata": {
        "trusted": true
      },
      "outputs": [
        {
          "name": "stdout",
          "output_type": "stream",
          "text": "las ventas de junio a julio son 250\n"
        }
      ],
      "execution_count": 19
    },
    {
      "cell_type": "markdown",
      "source": "\n**¿Cuándo acaba una línea de código?**. El salto de línea lo interpreta Python como una nueva instrucción. En muchos lengujes, como Java hay que especificar el fin de la sentencia de código mediante `;`. En Python no es necesario, aunque se puede usar igualmente.",
      "metadata": {
        "id": "RpiNY_DDsz8T"
      }
    },
    {
      "cell_type": "code",
      "source": "altura = 1.80; peso = 75\nprint(altura, peso)",
      "metadata": {
        "id": "1Y36Th3asz8U",
        "trusted": true
      },
      "outputs": [
        {
          "name": "stdout",
          "output_type": "stream",
          "text": "1.8 75\n"
        }
      ],
      "execution_count": 20
    },
    {
      "cell_type": "code",
      "source": "x,y,z = 12,23,45",
      "metadata": {
        "id": "DeNp6TuOsz8V",
        "trusted": true
      },
      "outputs": [],
      "execution_count": 21
    },
    {
      "cell_type": "code",
      "source": "x = 12\ny = 23\nz = 45",
      "metadata": {
        "trusted": true
      },
      "outputs": [],
      "execution_count": 22
    },
    {
      "cell_type": "markdown",
      "source": "## Del\n[al indice](#Contenidos)\nEs la sentencia que usaremos para borrar una variable. La verdad, no se suelen borrar variables. Vamos desarrollando los programas de Python sin preocuparnos de limpiar aquellas variables que no usamos. Normalmente no borrarlas no suele ser un problema, pero cuando manejamos un gran volumen de datos, podemos sufrir problemas de rendimiento ya que **las variables ocupan memoria**.\n\nCuando las variables son las que hemos visto hasta ahora, no pasa nada, pero si son más pesadas, como por ejemplo datasets de imágenes que ocupan mucho, sí va a venir bien eliminar aquellas que no usemos.",
      "metadata": {
        "id": "05D06kawsz8V"
      }
    },
    {
      "cell_type": "code",
      "source": "altura = 1.85\ndel altura\nprint(altura)",
      "metadata": {
        "id": "iw3UNr4xsz8W",
        "trusted": true
      },
      "outputs": [
        {
          "ename": "<class 'NameError'>",
          "evalue": "name 'altura' is not defined",
          "traceback": [
            "\u001b[0;31m---------------------------------------------------------------------------\u001b[0m",
            "\u001b[0;31mNameError\u001b[0m                                 Traceback (most recent call last)",
            "Cell \u001b[0;32mIn[23], line 3\u001b[0m\n\u001b[1;32m      1\u001b[0m altura \u001b[38;5;241m=\u001b[39m \u001b[38;5;241m1.85\u001b[39m\n\u001b[1;32m      2\u001b[0m \u001b[38;5;28;01mdel\u001b[39;00m altura\n\u001b[0;32m----> 3\u001b[0m \u001b[38;5;28mprint\u001b[39m(\u001b[43maltura\u001b[49m)\n",
            "\u001b[0;31mNameError\u001b[0m: name 'altura' is not defined"
          ],
          "output_type": "error"
        }
      ],
      "execution_count": 23
    }
  ]
}