{
  "metadata": {
    "kernelspec": {
      "name": "python",
      "display_name": "Python (Pyodide)",
      "language": "python"
    },
    "language_info": {
      "codemirror_mode": {
        "name": "python",
        "version": 3
      },
      "file_extension": ".py",
      "mimetype": "text/x-python",
      "name": "python",
      "nbconvert_exporter": "python",
      "pygments_lexer": "ipython3",
      "version": "3.8"
    },
    "colab": {
      "provenance": []
    }
  },
  "nbformat_minor": 4,
  "nbformat": 4,
  "cells": [
    {
      "cell_type": "markdown",
      "source": "![TheBridge_logo_RGB_color.jpg](attachment:TheBridge_logo_RGB_color.jpg)",
      "metadata": {
        "id": "XpscjZ-OzX8i"
      }
    },
    {
      "cell_type": "markdown",
      "source": "![imagen](./img/ejercicios.png)",
      "metadata": {
        "id": "OOLxKe8XzX8k"
      }
    },
    {
      "cell_type": "markdown",
      "source": "## EJERCICIOS PYTHON BASICO 4:\n## Funciones, métodos, listas",
      "metadata": {
        "id": "ScVasjVjzX8l"
      }
    },
    {
      "cell_type": "markdown",
      "source": "Completa los siguiente ejercicios, la solución completa a los mismos se publicarán en el repo del curso a lo largo del sprint. En algunos ejercicios se muestra la solución final, para que puedas comprobar que lo has hecho bien, pero lo importante es el código que generes. ¡Vaaamos, a ello...!",
      "metadata": {
        "id": "gdAugp55zX8m"
      }
    },
    {
      "cell_type": "markdown",
      "source": "![ejercicio.png](./img/ejercicio.png)\n\n## Ejercicio 1\nPara este ejercicio vamos a poner en práctica [las funciones built in](https://docs.python.org/3/library/functions.html).\n\n1. Calcula el máximo de la lista: [4, 6, 8, -1]\n2. Suma todos los elementos de la lista anterior\n3. Redondea este float a 3 dígitos decimales: 63.451256965\n4. Valor absoluto de: -74",
      "metadata": {
        "id": "WkulTKDQzX8n"
      }
    },
    {
      "cell_type": "code",
      "source": "",
      "metadata": {
        "id": "52pQSFzIzX8o"
      },
      "outputs": [],
      "execution_count": null
    },
    {
      "cell_type": "markdown",
      "source": "![ejercicio.png](./img/ejercicio.png)\n\n## Ejercicio 2\nPara el siguiente string se pide imprimir por pantalla los siguientes casos\n\n    \"En un lugar de la Mancha, de cuyo nombre no quiero acordarme.\"\n\n1. Pásalo todo a mayúsculas\n2. Pásalo todo a minúsculas\n3. Solo la primera letra de cada palabra en mayúscula, el resto en minúscula\n4. Crea una lista dividiéndolo por sus espacios\n5. Sustituye las comas `,` por puntos y comas `;`\n6. Elimina las `a` minúsculas",
      "metadata": {
        "id": "J_US0dXPzX8p"
      }
    },
    {
      "cell_type": "code",
      "source": "",
      "metadata": {
        "id": "RinQDT2fzX8p",
        "outputId": "3358eaf0-467f-42de-f42e-b9301f229bf4"
      },
      "outputs": [
        {
          "name": "stdout",
          "output_type": "stream",
          "text": "EN UN LUGAR DE LA MANCHA, DE CUYO NOMBRE NO QUIERO ACORDARME.\n,en un lugar de la mancha, de cuyo nombre no quiero acordarme.\n,En Un Lugar De La Mancha, De Cuyo Nombre No Quiero Acordarme.\n,['En', 'un', 'lugar', 'de', 'la', 'Mancha,', 'de', 'cuyo', 'nombre', 'no', 'quiero', 'acordarme.']\n,En un lugar de la Mancha; de cuyo nombre no quiero acordarme.\n,En un lugr de l Mnch, de cuyo nombre no quiero cordrme.\n"
        }
      ],
      "execution_count": null
    },
    {
      "cell_type": "markdown",
      "source": "![ejercicio.png](./img/ejercicio.png)\n\n## Ejercicio 3\n1. Crea una lista con 3 elementos numéricos\n2. Añade un cuarto elemento\n3. Calcula la suma de todos\n4. Elimina el segundo elemento de la lista\n5. Añade otro elemento en la posicion 3 de la lista\n6. Crea otra lista con 4 elementos y concaténala a la que ya tenías.\n7. Ordena la lista de menor a mayor.\n8. BONUS: Ordena la lista de mayor a menor.  \n(*PISTA: Para hacer 8, tendrás que buscar en la información del método...*)  \n  \n  \nNOTA: Pinta por pantalla el resultado de cada paso.",
      "metadata": {
        "id": "Y_2tbsTWzX8r"
      }
    },
    {
      "cell_type": "code",
      "source": "",
      "metadata": {
        "id": "vpX0Xp3EzX8r",
        "outputId": "096f143f-4d34-4e78-a411-bc90c1f10b61"
      },
      "outputs": [
        {
          "name": "stdout",
          "output_type": "stream",
          "text": "10\n,[2, 3, 4]\n,[2, 3, 5, 4]\n,[2, 3, 5, 4, 6, 7, 8, 9]\n"
        }
      ],
      "execution_count": null
    }
  ]
}