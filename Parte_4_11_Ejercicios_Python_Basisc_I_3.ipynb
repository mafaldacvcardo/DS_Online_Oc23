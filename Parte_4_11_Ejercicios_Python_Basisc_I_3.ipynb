{
  "cells": [
    {
      "cell_type": "markdown",
      "metadata": {
        "id": "pnEQMfD4zRqM"
      },
      "source": [
        "![TheBridge_logo_RGB_color.jpg](attachment:TheBridge_logo_RGB_color.jpg)"
      ]
    },
    {
      "cell_type": "markdown",
      "metadata": {
        "id": "qcWmughmzRqO"
      },
      "source": [
        "![imagen](./img/ejercicios.png)"
      ]
    },
    {
      "cell_type": "markdown",
      "metadata": {
        "id": "p6RrOYSOzRqP"
      },
      "source": [
        "## EJERCICIOS PYTHON BASICO 3:\n",
        "## Operaciones matemáticas, comparación y booleanas"
      ]
    },
    {
      "cell_type": "markdown",
      "metadata": {
        "id": "mvciWV5UzRqQ"
      },
      "source": [
        "Completa los siguiente ejercicios, la solución completa a los mismos se publicarán en el repo del curso a lo largo del sprint. En algunos ejercicios se muestra la solución final, para que puedas comprobar que lo has hecho bien, pero lo importante es el código que generes. ¡Vaaamos, a ello...!"
      ]
    },
    {
      "cell_type": "markdown",
      "metadata": {
        "id": "epQten_EzRqQ"
      },
      "source": [
        "![ejercicio.png](./img/ejercicio.png)\n",
        "\n",
        "\n",
        "## Ejercicio 1\n",
        "Tenemos las siguientes variables:\n",
        "\n",
        "```Python\n",
        "A = 4\n",
        "B = \"Text\"\n",
        "C = 4.1\n",
        "```\n",
        "\n",
        "Comprueba:\n",
        "1. Si A y B son equivalentes\n",
        "2. Si A y C NO son equivalentes\n",
        "3. Si A es mayor que C\n",
        "4. Si C es menor o igual que A\n",
        "5. Si B NO es equivalente a C"
      ]
    },
    {
      "cell_type": "code",
      "execution_count": null,
      "metadata": {
        "id": "cQSeFd6vzRqR",
        "outputId": "7efb3b5b-5d60-46a2-a893-7f69fa602e91"
      },
      "outputs": [
        {
          "name": "stdout",
          "output_type": "stream",
          "text": [
            "False\n",
            "True\n",
            "False\n",
            "False\n",
            "True\n"
          ]
        }
      ],
      "source": []
    },
    {
      "cell_type": "markdown",
      "metadata": {
        "id": "39Cc7Q4MzRqS"
      },
      "source": [
        "![ejercicio.png](./img/ejercicio.png)\n",
        "\n",
        "## Ejercicio 2\n",
        "Crea un programa donde se recojan dos inputs del usuario, y el output del programa sea si esos inputs son iguales o no"
      ]
    },
    {
      "cell_type": "code",
      "execution_count": null,
      "metadata": {
        "id": "6twfP6xazRqT"
      },
      "outputs": [],
      "source": []
    },
    {
      "cell_type": "markdown",
      "metadata": {
        "id": "3lHUQK65zRqT"
      },
      "source": [
        "![ejercicio.png](./img/ejercicio.png)\n",
        "\n",
        "## Ejercicio 3\n",
        "Mismo programa que en 2, pero en esta ocasión tienen que ser tres inputs y dos salidas. Una de las salidas que nos indique si todos son iguales, y la otra si al menos dos inputs sí que lo son"
      ]
    },
    {
      "cell_type": "code",
      "execution_count": null,
      "metadata": {
        "id": "__aqL3p8zRqU",
        "outputId": "238e9cf2-c35a-4589-8aad-0f94f56d56ab"
      },
      "outputs": [
        {
          "name": "stdout",
          "output_type": "stream",
          "text": [
            "Todos son iguales: False\n",
            "Todos son iguales: False\n"
          ]
        }
      ],
      "source": []
    },
    {
      "cell_type": "markdown",
      "metadata": {
        "id": "Mo96xoeNzRqU"
      },
      "source": [
        "![ejercicio.png](./img/ejercicio.png)\n",
        "\n",
        "## Ejercicio 4\n",
        "Razona sin ejecutar código el output que obtendremos de las siguientes sentencias\n",
        "1. True and True and False\n",
        "2. not ((True or False) and (True or False))\n",
        "3. (False or False or False or True) and False\n",
        "4. not False and True and not True"
      ]
    },
    {
      "cell_type": "markdown",
      "metadata": {
        "id": "rjKi0fAVzRqU"
      },
      "source": []
    }
  ],
  "metadata": {
    "kernelspec": {
      "display_name": "Curso_Online_DATA",
      "language": "python",
      "name": "python3"
    },
    "language_info": {
      "codemirror_mode": {
        "name": "ipython",
        "version": 3
      },
      "file_extension": ".py",
      "mimetype": "text/x-python",
      "name": "python",
      "nbconvert_exporter": "python",
      "pygments_lexer": "ipython3",
      "version": "3.11.5"
    },
    "orig_nbformat": 4,
    "colab": {
      "provenance": []
    }
  },
  "nbformat": 4,
  "nbformat_minor": 0
}