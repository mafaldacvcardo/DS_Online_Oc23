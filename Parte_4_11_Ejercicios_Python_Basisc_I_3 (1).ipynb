{
  "metadata": {
    "kernelspec": {
      "name": "python",
      "display_name": "Python (Pyodide)",
      "language": "python"
    },
    "language_info": {
      "codemirror_mode": {
        "name": "python",
        "version": 3
      },
      "file_extension": ".py",
      "mimetype": "text/x-python",
      "name": "python",
      "nbconvert_exporter": "python",
      "pygments_lexer": "ipython3",
      "version": "3.8"
    },
    "colab": {
      "provenance": []
    }
  },
  "nbformat_minor": 4,
  "nbformat": 4,
  "cells": [
    {
      "cell_type": "markdown",
      "source": "![TheBridge_logo_RGB_color.jpg](attachment:TheBridge_logo_RGB_color.jpg)",
      "metadata": {
        "id": "pnEQMfD4zRqM"
      }
    },
    {
      "cell_type": "markdown",
      "source": "![imagen](./img/ejercicios.png)",
      "metadata": {
        "id": "qcWmughmzRqO"
      }
    },
    {
      "cell_type": "markdown",
      "source": "## EJERCICIOS PYTHON BASICO 3:\n## Operaciones matemáticas, comparación y booleanas",
      "metadata": {
        "id": "p6RrOYSOzRqP"
      }
    },
    {
      "cell_type": "markdown",
      "source": "Completa los siguiente ejercicios, la solución completa a los mismos se publicarán en el repo del curso a lo largo del sprint. En algunos ejercicios se muestra la solución final, para que puedas comprobar que lo has hecho bien, pero lo importante es el código que generes. ¡Vaaamos, a ello...!",
      "metadata": {
        "id": "mvciWV5UzRqQ"
      }
    },
    {
      "cell_type": "markdown",
      "source": "![ejercicio.png](./img/ejercicio.png)\n\n\n## Ejercicio 1\nTenemos las siguientes variables:\n\n```Python\nA = 4\nB = \"Text\"\nC = 4.1\n```\n\nComprueba:\n1. Si A y B son equivalentes\n2. Si A y C NO son equivalentes\n3. Si A es mayor que C\n4. Si C es menor o igual que A\n5. Si B NO es equivalente a C",
      "metadata": {
        "id": "epQten_EzRqQ"
      }
    },
    {
      "cell_type": "code",
      "source": "",
      "metadata": {
        "id": "cQSeFd6vzRqR",
        "outputId": "7efb3b5b-5d60-46a2-a893-7f69fa602e91"
      },
      "outputs": [
        {
          "name": "stdout",
          "output_type": "stream",
          "text": "False\n,True\n,False\n,False\n,True\n"
        }
      ],
      "execution_count": null
    },
    {
      "cell_type": "markdown",
      "source": "![ejercicio.png](./img/ejercicio.png)\n\n## Ejercicio 2\nCrea un programa donde se recojan dos inputs del usuario, y el output del programa sea si esos inputs son iguales o no",
      "metadata": {
        "id": "39Cc7Q4MzRqS"
      }
    },
    {
      "cell_type": "code",
      "source": "",
      "metadata": {
        "id": "6twfP6xazRqT"
      },
      "outputs": [],
      "execution_count": null
    },
    {
      "cell_type": "markdown",
      "source": "![ejercicio.png](./img/ejercicio.png)\n\n## Ejercicio 3\nMismo programa que en 2, pero en esta ocasión tienen que ser tres inputs y dos salidas. Una de las salidas que nos indique si todos son iguales, y la otra si al menos dos inputs sí que lo son",
      "metadata": {
        "id": "3lHUQK65zRqT"
      }
    },
    {
      "cell_type": "code",
      "source": "",
      "metadata": {
        "id": "__aqL3p8zRqU",
        "outputId": "238e9cf2-c35a-4589-8aad-0f94f56d56ab"
      },
      "outputs": [
        {
          "name": "stdout",
          "output_type": "stream",
          "text": "Todos son iguales: False\n,Todos son iguales: False\n"
        }
      ],
      "execution_count": null
    },
    {
      "cell_type": "markdown",
      "source": "![ejercicio.png](./img/ejercicio.png)\n\n## Ejercicio 4\nRazona sin ejecutar código el output que obtendremos de las siguientes sentencias\n1. True and True and False\n2. not ((True or False) and (True or False))\n3. (False or False or False or True) and False\n4. not False and True and not True",
      "metadata": {
        "id": "Mo96xoeNzRqU"
      }
    },
    {
      "cell_type": "markdown",
      "source": "",
      "metadata": {
        "id": "rjKi0fAVzRqU"
      }
    }
  ]
}