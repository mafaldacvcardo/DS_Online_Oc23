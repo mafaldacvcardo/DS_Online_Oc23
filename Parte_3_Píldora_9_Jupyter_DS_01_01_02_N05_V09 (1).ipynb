{
  "metadata": {
    "kernelspec": {
      "name": "python",
      "display_name": "Python (Pyodide)",
      "language": "python"
    },
    "language_info": {
      "codemirror_mode": {
        "name": "python",
        "version": 3
      },
      "file_extension": ".py",
      "mimetype": "text/x-python",
      "name": "python",
      "nbconvert_exporter": "python",
      "pygments_lexer": "ipython3",
      "version": "3.8"
    },
    "colab": {
      "provenance": []
    }
  },
  "nbformat_minor": 4,
  "nbformat": 4,
  "cells": [
    {
      "cell_type": "markdown",
      "source": "<img src = \"./img/TheBridge_logo_RGB_color.jpg\" width = 500>\n<img src = \"./img/python.jpg\" width = 500>",
      "metadata": {
        "id": "L2fo9hfARgZS"
      }
    },
    {
      "cell_type": "markdown",
      "source": "# Python Basics I",
      "metadata": {
        "id": "waquDOJdRgZU"
      }
    },
    {
      "cell_type": "markdown",
      "source": "# Contenidos",
      "metadata": {
        "id": "9SACWJtORgZV"
      }
    },
    {
      "cell_type": "markdown",
      "source": "* [Operaciones aritméticas\n](#Operaciones-aritméticas\n)\n\n* [Operaciones comparativas\n](#Operaciones-comparativas\n)\n\n",
      "metadata": {
        "id": "yVCme4lORgZW"
      }
    },
    {
      "cell_type": "markdown",
      "source": "## Operaciones aritméticas\n[al indice](#Contenidos)  \n\nHace un par de sesiones ya vimos por encima las principales operaciones aritméticas en Python. Las recordamos:\n* Sumar: `+`\n* Restar: `-`\n* Multiplicar: `*`\n* Dividir: `/`\n* Elevar: `**`\n* Cociente division: `//`\n* Resto de la división: `%`",
      "metadata": {
        "id": "jv1daPlvRgZX"
      }
    },
    {
      "cell_type": "code",
      "source": "# Declarar y asignar una variable entera\nentero = 5\n# Declarar y asignar una variable real o float\nreal = 12.34\n# Sumar las variables y mostrar el resultado\nsuma_vars = entero + real\nprint(suma_vars)\n# Mostrar de qué tipo es el resultado\nprint(type(suma_vars))\n# Multiplicar ambas variables y mostrar el resultado\nmultiplica_vars = entero * real\nprint(multiplica_vars, type(multiplica_vars))\n# Elevar una a la otra\npotencia = entero ** real\nprint(potencia, type(potencia))\n# Dividir una por otra y mostrar además el resto y el cociente\ndivision_vars = entero/real\ncociente = entero // real\nresto = entero % real\nprint(division_vars,\"\\n\",resto,\"\\n\", cociente)",
      "metadata": {
        "id": "TyXFM8x3RgZY",
        "trusted": true
      },
      "outputs": [
        {
          "name": "stdout",
          "output_type": "stream",
          "text": "17.34\n<class 'float'>\n61.7 <class 'float'>\n421978042.82945716 <class 'float'>\n0.4051863857374392 \n 5.0 \n 0.0\n"
        }
      ],
      "execution_count": 2
    },
    {
      "cell_type": "code",
      "source": "",
      "metadata": {
        "id": "-hLkb7VpRgZZ"
      },
      "outputs": [],
      "execution_count": null
    },
    {
      "cell_type": "markdown",
      "source": "### Propiedad conmutativa, asociativa, distributiva y el paréntesis\nSi queremos concatenar varias operaciones, ten siempre en cuenta las propiedades matemáticas de la multiplicación",
      "metadata": {
        "id": "gfJRw_xgRgZa"
      }
    },
    {
      "cell_type": "code",
      "source": "print(\"Conmutativa\")\nprint(2 * 3)\nprint(3 * 2)\n\nprint(\"\\nAsociativa\") # Recuerda que \"\\n\" se usa para que haya un salto de linea en el output.\nprint((3 * 2) * 5)\nprint(3 * (2 * 5))\n\nprint(\"\\nDistributiva\")\nprint(2 * (3 + 5))\nprint(2 * 3 + 2 * 5)\n\nprint(\"\\nEl Orden de operaciones se mantiene. Siempre podemos usar paréntesis\")\nprint(2 * (2 + 3) * 5)\nprint((2 * 2 + 3 * 5)/(4 + 7))",
      "metadata": {
        "id": "1M2kLFIKRgZa",
        "trusted": true,
        "scrolled": true
      },
      "outputs": [
        {
          "name": "stdout",
          "output_type": "stream",
          "text": "Conmutativa\n6\n6\n\nAsociativa\n30\n30\n\nDistributiva\n16\n16\n\nEl Orden de operaciones se mantiene. Siempre podemos usar paréntesis\n50\n1.7272727272727273\n"
        }
      ],
      "execution_count": 3
    },
    {
      "cell_type": "markdown",
      "source": "### Operaciones más complejas\nSi salimos de las operaciones básicas de Python, tendremos que importar módulos con más funcionalidades en nuestro código. Esto lo haremos mediante la sentencia `import math`. `math` es un módulo con funciones ya predefinidas, que no vienen por defecto en el núcleo de Python. De esta forma será posible hacer cálculos más complejos como:\n\n* Raíz cuadrada\n* Seno/Coseno\n* Valor absoluto\n*...\n\nEl módulo es completísimo y si estás buscando alguna operación matemática, lo más seguro es que ya esté implementada. Te dejo por aquí el [link a la documentación del módulo.](https://docs.python.org/3/library/math.html).",
      "metadata": {
        "id": "9LQyks0BRgZb"
      }
    },
    {
      "cell_type": "code",
      "source": "import math\nprint(math.sqrt(25))\nprint(math.cos(0))\nprint(math.fabs(-123.45)) #abs",
      "metadata": {
        "id": "kyH0aYlORgZb",
        "trusted": true
      },
      "outputs": [
        {
          "name": "stdout",
          "output_type": "stream",
          "text": "5.0\n1.0\n123.45\n"
        }
      ],
      "execution_count": 5
    },
    {
      "cell_type": "markdown",
      "source": "Como en todos los lenguajes de programación, suele haber una serie de componentes básicos (variables, operaciones aritméticas, tipos de datos...) con los que podemos hacer muchas cosas. Ahora bien, si queremos ampliar esas funcionalidades, se suelen importar nuevos módulos, con funciones ya hechas de otros usuarios, como en el caso del módulo `math`. Veremos esto de los módulos más adelante.",
      "metadata": {
        "id": "FaXOwq8vRgZc"
      }
    },
    {
      "cell_type": "markdown",
      "source": "<table align=\"left\">\n <tr><td width=\"80\"><img src=\"./img/error.png\" style=\"width:auto;height:auto\"></td>\n     <td style=\"text-align:left\">\n         <h3>ERRORES Dividir por cero</h3>\n         \n </td></tr>\n</table>",
      "metadata": {
        "id": "rHy_z5IARgZc"
      }
    },
    {
      "cell_type": "markdown",
      "source": "Cuidado cuando operamos con 0s. Las indeterminaciones y valores infinitos suponen errores en el código. Por suerte, la descripción de estos errores es bastante explícita, obteniendo un error de tipo `ZeroDivisionError`",
      "metadata": {
        "id": "NSGDphaqRgZc"
      }
    },
    {
      "cell_type": "code",
      "source": "4/0",
      "metadata": {
        "id": "56ijHjWyRgZd",
        "trusted": true,
        "scrolled": true
      },
      "outputs": [
        {
          "ename": "<class 'ZeroDivisionError'>",
          "evalue": "division by zero",
          "traceback": [
            "\u001b[0;31m---------------------------------------------------------------------------\u001b[0m",
            "\u001b[0;31mZeroDivisionError\u001b[0m                         Traceback (most recent call last)",
            "Cell \u001b[0;32mIn[6], line 1\u001b[0m\n\u001b[0;32m----> 1\u001b[0m \u001b[38;5;241;43m4\u001b[39;49m\u001b[38;5;241;43m/\u001b[39;49m\u001b[38;5;241;43m0\u001b[39;49m\n",
            "\u001b[0;31mZeroDivisionError\u001b[0m: division by zero"
          ],
          "output_type": "error"
        }
      ],
      "execution_count": 6
    },
    {
      "cell_type": "code",
      "source": "variable_a/variable_b",
      "metadata": {
        "trusted": true
      },
      "outputs": [],
      "execution_count": null
    },
    {
      "cell_type": "code",
      "source": "# Hay valores que se salen del dominio de algunas funciones matemáticas,\n# como es el caso de las raices de números negativos\n",
      "metadata": {
        "id": "2qVLzOIWRgZd"
      },
      "outputs": [],
      "execution_count": null
    },
    {
      "cell_type": "code",
      "source": "math.sqrt(-12)",
      "metadata": {
        "trusted": true
      },
      "outputs": [
        {
          "ename": "<class 'ValueError'>",
          "evalue": "math domain error",
          "traceback": [
            "\u001b[0;31m---------------------------------------------------------------------------\u001b[0m",
            "\u001b[0;31mValueError\u001b[0m                                Traceback (most recent call last)",
            "Cell \u001b[0;32mIn[8], line 1\u001b[0m\n\u001b[0;32m----> 1\u001b[0m \u001b[43mmath\u001b[49m\u001b[38;5;241;43m.\u001b[39;49m\u001b[43msqrt\u001b[49m\u001b[43m(\u001b[49m\u001b[38;5;241;43m-\u001b[39;49m\u001b[38;5;241;43m12\u001b[39;49m\u001b[43m)\u001b[49m\n",
            "\u001b[0;31mValueError\u001b[0m: math domain error"
          ],
          "output_type": "error"
        }
      ],
      "execution_count": 8
    },
    {
      "cell_type": "markdown",
      "source": "## Operaciones comparativas\n[al indice](#Contenidos)  \n\nEs bastante intuitivo comparar valores en Python. La sintaxis es la siguiente:\n* `==`: Igualdad. No es un `=`. Hay que diferenciar entre una comparativa, y una asignación de valores\n* `!=`: Desigualdad\n* `>`: Mayor que\n* `<`: Menor que\n* `>=`: Mayor o igual que\n* `<=`: Menor o igual que",
      "metadata": {
        "id": "rIWnhLdyRgZf"
      }
    },
    {
      "cell_type": "markdown",
      "source": "En la asignación estamos diciendole a Python que la variable `asign` vale 1, mientras que en la comparación, estamos preguntando a Python si `a` equivale a 5. Como vale 1, nos devuelve un `False`",
      "metadata": {
        "id": "UfXS3JG_RgZf"
      }
    },
    {
      "cell_type": "code",
      "source": "# asignacion\nasign = 1\nprint(asign)\n\n# comparacion\nprint(asign == 5)\nprint(asign)\n",
      "metadata": {
        "id": "4MBAYXXwRgZf",
        "trusted": true
      },
      "outputs": [
        {
          "name": "stdout",
          "output_type": "stream",
          "text": "1\nFalse\n1\n"
        }
      ],
      "execution_count": 10
    },
    {
      "cell_type": "markdown",
      "source": "Veamos otros ejemplos de comparaciones",
      "metadata": {
        "id": "BX0PRW-GRgZf"
      }
    },
    {
      "cell_type": "code",
      "source": "print(\"AAA\" == \"BBB\") \nprint(\"AAA\" == \"AAA\")\nprint( 93 > 12)\nprint( 1 == 1.0)\nprint( 93 <= 12)\n",
      "metadata": {
        "id": "fNfozs_NRgZf",
        "trusted": true
      },
      "outputs": [
        {
          "name": "stdout",
          "output_type": "stream",
          "text": "False\nTrue\nTrue\nTrue\nFalse\n"
        }
      ],
      "execution_count": 15
    },
    {
      "cell_type": "markdown",
      "source": "<table align=\"left\">\n <tr><td width=\"80\"><img src=\"./img/error.png\" style=\"width:auto;height:auto\"></td>\n     <td style=\"text-align:left\">\n         <h3>ERRORES en comparativas</h3>\n         \n </td></tr>\n</table>",
      "metadata": {
        "id": "EUc7DFOqRgZf"
      }
    },
    {
      "cell_type": "markdown",
      "source": "Este tipo de errores son muy comunes, pues es muy habitual comparar peras con manzanas. Cuando se trata de una igualdad (`==`), no suele haber problemas, ya que si las variables son de distinto tipo, simplemente es `False`. Lo ideal sería que Python nos avisase de estas cosas porque realmente lo estamos haciendo mal, no estamos comparando cosas del mismo tipo",
      "metadata": {
        "id": "FTtC4bIyRgZf"
      }
    },
    {
      "cell_type": "code",
      "source": "print( 1 == \"1\")\nprint(\"Hola\" == True)",
      "metadata": {
        "id": "Dw5U4vyuRgZf",
        "trusted": true
      },
      "outputs": [
        {
          "name": "stdout",
          "output_type": "stream",
          "text": "False\nFalse\n"
        }
      ],
      "execution_count": 17
    },
    {
      "cell_type": "code",
      "source": "# Obtenemos un TypeError cuando la comparativa es de > o <\n",
      "metadata": {
        "id": "-mgvbtjORgZf"
      },
      "outputs": [],
      "execution_count": null
    },
    {
      "cell_type": "code",
      "source": "print(\"17\" >= 23)",
      "metadata": {
        "id": "sx8vS2WiRgZg",
        "trusted": true
      },
      "outputs": [
        {
          "ename": "<class 'TypeError'>",
          "evalue": "'>=' not supported between instances of 'str' and 'int'",
          "traceback": [
            "\u001b[0;31m---------------------------------------------------------------------------\u001b[0m",
            "\u001b[0;31mTypeError\u001b[0m                                 Traceback (most recent call last)",
            "Cell \u001b[0;32mIn[18], line 1\u001b[0m\n\u001b[0;32m----> 1\u001b[0m \u001b[38;5;28mprint\u001b[39m(\u001b[38;5;124;43m\"\u001b[39;49m\u001b[38;5;124;43m17\u001b[39;49m\u001b[38;5;124;43m\"\u001b[39;49m\u001b[43m \u001b[49m\u001b[38;5;241;43m>\u001b[39;49m\u001b[38;5;241;43m=\u001b[39;49m\u001b[43m \u001b[49m\u001b[38;5;241;43m23\u001b[39;49m)\n",
            "\u001b[0;31mTypeError\u001b[0m: '>=' not supported between instances of 'str' and 'int'"
          ],
          "output_type": "error"
        }
      ],
      "execution_count": 18
    },
    {
      "cell_type": "code",
      "source": "",
      "metadata": {
        "id": "ZF_Y86BRRgZg"
      },
      "outputs": [],
      "execution_count": null
    }
  ]
}